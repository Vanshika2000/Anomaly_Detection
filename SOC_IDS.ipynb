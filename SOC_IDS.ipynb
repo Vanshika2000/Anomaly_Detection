{
  "nbformat": 4,
  "nbformat_minor": 0,
  "metadata": {
    "colab": {
      "name": "SOC_IDS.ipynb",
      "provenance": [],
      "collapsed_sections": []
    },
    "kernelspec": {
      "name": "python3",
      "display_name": "Python 3"
    }
  },
  "cells": [
    {
      "cell_type": "code",
      "metadata": {
        "id": "9hP2V-S25u3z",
        "colab_type": "code",
        "colab": {}
      },
      "source": [
        "import numpy as np\n",
        "import pandas as pd\n",
        "import torch.nn as nn\n",
        "import torch.optim as optim\n",
        "import sklearn\n",
        "from sklearn.model_selection import train_test_split\n",
        "import torch\n",
        "import torchvision\n",
        "import torchvision.transforms as transforms\n",
        "from torch.utils.data import Dataset, DataLoader\n",
        "import torch.utils.data as data_utils\n",
        "import seaborn as sns\n",
        "import matplotlib.pyplot as plt"
      ],
      "execution_count": 0,
      "outputs": []
    },
    {
      "cell_type": "code",
      "metadata": {
        "id": "Els2z-DZ-slL",
        "colab_type": "code",
        "outputId": "9d39637e-c563-4c9d-e130-18df57b75950",
        "colab": {
          "base_uri": "https://localhost:8080/",
          "height": 34
        }
      },
      "source": [
        "from google.colab import drive\n",
        "drive.mount('/content/drive')"
      ],
      "execution_count": 37,
      "outputs": [
        {
          "output_type": "stream",
          "text": [
            "Drive already mounted at /content/drive; to attempt to forcibly remount, call drive.mount(\"/content/drive\", force_remount=True).\n"
          ],
          "name": "stdout"
        }
      ]
    },
    {
      "cell_type": "code",
      "metadata": {
        "id": "HFuNHHh457Av",
        "colab_type": "code",
        "colab": {}
      },
      "source": [
        "df = pd.read_csv('/content/drive/My Drive/dataset.csv',names = list1)\n",
        "#df = pd.read_csv('/content/drive/My Drive/annthyroid.csv',names = list1)"
      ],
      "execution_count": 0,
      "outputs": []
    },
    {
      "cell_type": "code",
      "metadata": {
        "id": "axCvYs5pAILq",
        "colab_type": "code",
        "outputId": "a1bd4479-4c98-4a50-caac-c30de155e89c",
        "colab": {
          "base_uri": "https://localhost:8080/",
          "height": 204
        }
      },
      "source": [
        "df.head()"
      ],
      "execution_count": 39,
      "outputs": [
        {
          "output_type": "execute_result",
          "data": {
            "text/html": [
              "<div>\n",
              "<style scoped>\n",
              "    .dataframe tbody tr th:only-of-type {\n",
              "        vertical-align: middle;\n",
              "    }\n",
              "\n",
              "    .dataframe tbody tr th {\n",
              "        vertical-align: top;\n",
              "    }\n",
              "\n",
              "    .dataframe thead th {\n",
              "        text-align: right;\n",
              "    }\n",
              "</style>\n",
              "<table border=\"1\" class=\"dataframe\">\n",
              "  <thead>\n",
              "    <tr style=\"text-align: right;\">\n",
              "      <th></th>\n",
              "      <th>A</th>\n",
              "      <th>B</th>\n",
              "      <th>C</th>\n",
              "      <th>D</th>\n",
              "      <th>E</th>\n",
              "      <th>F</th>\n",
              "      <th>Label</th>\n",
              "    </tr>\n",
              "  </thead>\n",
              "  <tbody>\n",
              "    <tr>\n",
              "      <th>0</th>\n",
              "      <td>0.73</td>\n",
              "      <td>0.00060</td>\n",
              "      <td>0.015</td>\n",
              "      <td>0.120</td>\n",
              "      <td>0.082</td>\n",
              "      <td>0.146</td>\n",
              "      <td>0</td>\n",
              "    </tr>\n",
              "    <tr>\n",
              "      <th>1</th>\n",
              "      <td>0.24</td>\n",
              "      <td>0.00025</td>\n",
              "      <td>0.030</td>\n",
              "      <td>0.143</td>\n",
              "      <td>0.133</td>\n",
              "      <td>0.108</td>\n",
              "      <td>0</td>\n",
              "    </tr>\n",
              "    <tr>\n",
              "      <th>2</th>\n",
              "      <td>0.47</td>\n",
              "      <td>0.00190</td>\n",
              "      <td>0.024</td>\n",
              "      <td>0.102</td>\n",
              "      <td>0.131</td>\n",
              "      <td>0.078</td>\n",
              "      <td>0</td>\n",
              "    </tr>\n",
              "    <tr>\n",
              "      <th>3</th>\n",
              "      <td>0.64</td>\n",
              "      <td>0.00090</td>\n",
              "      <td>0.017</td>\n",
              "      <td>0.077</td>\n",
              "      <td>0.090</td>\n",
              "      <td>0.085</td>\n",
              "      <td>0</td>\n",
              "    </tr>\n",
              "    <tr>\n",
              "      <th>4</th>\n",
              "      <td>0.23</td>\n",
              "      <td>0.00025</td>\n",
              "      <td>0.026</td>\n",
              "      <td>0.139</td>\n",
              "      <td>0.090</td>\n",
              "      <td>0.153</td>\n",
              "      <td>0</td>\n",
              "    </tr>\n",
              "  </tbody>\n",
              "</table>\n",
              "</div>"
            ],
            "text/plain": [
              "      A        B      C      D      E      F  Label\n",
              "0  0.73  0.00060  0.015  0.120  0.082  0.146      0\n",
              "1  0.24  0.00025  0.030  0.143  0.133  0.108      0\n",
              "2  0.47  0.00190  0.024  0.102  0.131  0.078      0\n",
              "3  0.64  0.00090  0.017  0.077  0.090  0.085      0\n",
              "4  0.23  0.00025  0.026  0.139  0.090  0.153      0"
            ]
          },
          "metadata": {
            "tags": []
          },
          "execution_count": 39
        }
      ]
    },
    {
      "cell_type": "code",
      "metadata": {
        "id": "Ck3Nf7qbAPVY",
        "colab_type": "code",
        "colab": {}
      },
      "source": [
        "list1 = ['A','B','C','D','E','F','Label']"
      ],
      "execution_count": 0,
      "outputs": []
    },
    {
      "cell_type": "code",
      "metadata": {
        "id": "bSqvgImvBLIk",
        "colab_type": "code",
        "colab": {}
      },
      "source": [
        "df.columns = list1"
      ],
      "execution_count": 0,
      "outputs": []
    },
    {
      "cell_type": "code",
      "metadata": {
        "id": "vxDTLOXbBVVk",
        "colab_type": "code",
        "outputId": "38c4bff8-f33e-42e2-eafa-04f77a4efeac",
        "colab": {
          "base_uri": "https://localhost:8080/",
          "height": 204
        }
      },
      "source": [
        "df.head()"
      ],
      "execution_count": 42,
      "outputs": [
        {
          "output_type": "execute_result",
          "data": {
            "text/html": [
              "<div>\n",
              "<style scoped>\n",
              "    .dataframe tbody tr th:only-of-type {\n",
              "        vertical-align: middle;\n",
              "    }\n",
              "\n",
              "    .dataframe tbody tr th {\n",
              "        vertical-align: top;\n",
              "    }\n",
              "\n",
              "    .dataframe thead th {\n",
              "        text-align: right;\n",
              "    }\n",
              "</style>\n",
              "<table border=\"1\" class=\"dataframe\">\n",
              "  <thead>\n",
              "    <tr style=\"text-align: right;\">\n",
              "      <th></th>\n",
              "      <th>A</th>\n",
              "      <th>B</th>\n",
              "      <th>C</th>\n",
              "      <th>D</th>\n",
              "      <th>E</th>\n",
              "      <th>F</th>\n",
              "      <th>Label</th>\n",
              "    </tr>\n",
              "  </thead>\n",
              "  <tbody>\n",
              "    <tr>\n",
              "      <th>0</th>\n",
              "      <td>0.73</td>\n",
              "      <td>0.00060</td>\n",
              "      <td>0.015</td>\n",
              "      <td>0.120</td>\n",
              "      <td>0.082</td>\n",
              "      <td>0.146</td>\n",
              "      <td>0</td>\n",
              "    </tr>\n",
              "    <tr>\n",
              "      <th>1</th>\n",
              "      <td>0.24</td>\n",
              "      <td>0.00025</td>\n",
              "      <td>0.030</td>\n",
              "      <td>0.143</td>\n",
              "      <td>0.133</td>\n",
              "      <td>0.108</td>\n",
              "      <td>0</td>\n",
              "    </tr>\n",
              "    <tr>\n",
              "      <th>2</th>\n",
              "      <td>0.47</td>\n",
              "      <td>0.00190</td>\n",
              "      <td>0.024</td>\n",
              "      <td>0.102</td>\n",
              "      <td>0.131</td>\n",
              "      <td>0.078</td>\n",
              "      <td>0</td>\n",
              "    </tr>\n",
              "    <tr>\n",
              "      <th>3</th>\n",
              "      <td>0.64</td>\n",
              "      <td>0.00090</td>\n",
              "      <td>0.017</td>\n",
              "      <td>0.077</td>\n",
              "      <td>0.090</td>\n",
              "      <td>0.085</td>\n",
              "      <td>0</td>\n",
              "    </tr>\n",
              "    <tr>\n",
              "      <th>4</th>\n",
              "      <td>0.23</td>\n",
              "      <td>0.00025</td>\n",
              "      <td>0.026</td>\n",
              "      <td>0.139</td>\n",
              "      <td>0.090</td>\n",
              "      <td>0.153</td>\n",
              "      <td>0</td>\n",
              "    </tr>\n",
              "  </tbody>\n",
              "</table>\n",
              "</div>"
            ],
            "text/plain": [
              "      A        B      C      D      E      F  Label\n",
              "0  0.73  0.00060  0.015  0.120  0.082  0.146      0\n",
              "1  0.24  0.00025  0.030  0.143  0.133  0.108      0\n",
              "2  0.47  0.00190  0.024  0.102  0.131  0.078      0\n",
              "3  0.64  0.00090  0.017  0.077  0.090  0.085      0\n",
              "4  0.23  0.00025  0.026  0.139  0.090  0.153      0"
            ]
          },
          "metadata": {
            "tags": []
          },
          "execution_count": 42
        }
      ]
    },
    {
      "cell_type": "code",
      "metadata": {
        "id": "Co-QBI_nBXmi",
        "colab_type": "code",
        "outputId": "ed3bb1fa-7cec-4a50-8deb-65127f173a39",
        "colab": {
          "base_uri": "https://localhost:8080/",
          "height": 296
        }
      },
      "source": [
        "sns.countplot(x='Label',data=df)"
      ],
      "execution_count": 43,
      "outputs": [
        {
          "output_type": "execute_result",
          "data": {
            "text/plain": [
              "<matplotlib.axes._subplots.AxesSubplot at 0x7f4b6e093ac8>"
            ]
          },
          "metadata": {
            "tags": []
          },
          "execution_count": 43
        },
        {
          "output_type": "display_data",
          "data": {
            "image/png": "[encoded data removed]",
            "text/plain": [
              "<Figure size 432x288 with 1 Axes>"
            ]
          },
          "metadata": {
            "tags": [],
            "needs_background": "light"
          }
        }
      ]
    },
    {
      "cell_type": "code",
      "metadata": {
        "id": "y3Iu1LOCDq_z",
        "colab_type": "code",
        "colab": {}
      },
      "source": [
        "df1 = df[['A','B','C','D','E','F']]"
      ],
      "execution_count": 0,
      "outputs": []
    },
    {
      "cell_type": "code",
      "metadata": {
        "id": "-DU904c0GSzU",
        "colab_type": "code",
        "outputId": "1a4af285-4cd3-475b-9b38-a60fc8ed4416",
        "colab": {
          "base_uri": "https://localhost:8080/",
          "height": 419
        }
      },
      "source": [
        "df1"
      ],
      "execution_count": 45,
      "outputs": [
        {
          "output_type": "execute_result",
          "data": {
            "text/html": [
              "<div>\n",
              "<style scoped>\n",
              "    .dataframe tbody tr th:only-of-type {\n",
              "        vertical-align: middle;\n",
              "    }\n",
              "\n",
              "    .dataframe tbody tr th {\n",
              "        vertical-align: top;\n",
              "    }\n",
              "\n",
              "    .dataframe thead th {\n",
              "        text-align: right;\n",
              "    }\n",
              "</style>\n",
              "<table border=\"1\" class=\"dataframe\">\n",
              "  <thead>\n",
              "    <tr style=\"text-align: right;\">\n",
              "      <th></th>\n",
              "      <th>A</th>\n",
              "      <th>B</th>\n",
              "      <th>C</th>\n",
              "      <th>D</th>\n",
              "      <th>E</th>\n",
              "      <th>F</th>\n",
              "    </tr>\n",
              "  </thead>\n",
              "  <tbody>\n",
              "    <tr>\n",
              "      <th>0</th>\n",
              "      <td>0.73</td>\n",
              "      <td>0.00060</td>\n",
              "      <td>0.0150</td>\n",
              "      <td>0.120</td>\n",
              "      <td>0.082</td>\n",
              "      <td>0.1460</td>\n",
              "    </tr>\n",
              "    <tr>\n",
              "      <th>1</th>\n",
              "      <td>0.24</td>\n",
              "      <td>0.00025</td>\n",
              "      <td>0.0300</td>\n",
              "      <td>0.143</td>\n",
              "      <td>0.133</td>\n",
              "      <td>0.1080</td>\n",
              "    </tr>\n",
              "    <tr>\n",
              "      <th>2</th>\n",
              "      <td>0.47</td>\n",
              "      <td>0.00190</td>\n",
              "      <td>0.0240</td>\n",
              "      <td>0.102</td>\n",
              "      <td>0.131</td>\n",
              "      <td>0.0780</td>\n",
              "    </tr>\n",
              "    <tr>\n",
              "      <th>3</th>\n",
              "      <td>0.64</td>\n",
              "      <td>0.00090</td>\n",
              "      <td>0.0170</td>\n",
              "      <td>0.077</td>\n",
              "      <td>0.090</td>\n",
              "      <td>0.0850</td>\n",
              "    </tr>\n",
              "    <tr>\n",
              "      <th>4</th>\n",
              "      <td>0.23</td>\n",
              "      <td>0.00025</td>\n",
              "      <td>0.0260</td>\n",
              "      <td>0.139</td>\n",
              "      <td>0.090</td>\n",
              "      <td>0.1530</td>\n",
              "    </tr>\n",
              "    <tr>\n",
              "      <th>...</th>\n",
              "      <td>...</td>\n",
              "      <td>...</td>\n",
              "      <td>...</td>\n",
              "      <td>...</td>\n",
              "      <td>...</td>\n",
              "      <td>...</td>\n",
              "    </tr>\n",
              "    <tr>\n",
              "      <th>7195</th>\n",
              "      <td>0.59</td>\n",
              "      <td>0.00250</td>\n",
              "      <td>0.0208</td>\n",
              "      <td>0.079</td>\n",
              "      <td>0.099</td>\n",
              "      <td>0.0800</td>\n",
              "    </tr>\n",
              "    <tr>\n",
              "      <th>7196</th>\n",
              "      <td>0.51</td>\n",
              "      <td>0.10600</td>\n",
              "      <td>0.0060</td>\n",
              "      <td>0.005</td>\n",
              "      <td>0.089</td>\n",
              "      <td>0.0055</td>\n",
              "    </tr>\n",
              "    <tr>\n",
              "      <th>7197</th>\n",
              "      <td>0.51</td>\n",
              "      <td>0.00076</td>\n",
              "      <td>0.0201</td>\n",
              "      <td>0.090</td>\n",
              "      <td>0.067</td>\n",
              "      <td>0.1340</td>\n",
              "    </tr>\n",
              "    <tr>\n",
              "      <th>7198</th>\n",
              "      <td>0.35</td>\n",
              "      <td>0.00280</td>\n",
              "      <td>0.0201</td>\n",
              "      <td>0.090</td>\n",
              "      <td>0.089</td>\n",
              "      <td>0.1010</td>\n",
              "    </tr>\n",
              "    <tr>\n",
              "      <th>7199</th>\n",
              "      <td>0.73</td>\n",
              "      <td>0.00056</td>\n",
              "      <td>0.0201</td>\n",
              "      <td>0.081</td>\n",
              "      <td>0.090</td>\n",
              "      <td>0.0900</td>\n",
              "    </tr>\n",
              "  </tbody>\n",
              "</table>\n",
              "<p>7200 rows × 6 columns</p>\n",
              "</div>"
            ],
            "text/plain": [
              "         A        B       C      D      E       F\n",
              "0     0.73  0.00060  0.0150  0.120  0.082  0.1460\n",
              "1     0.24  0.00025  0.0300  0.143  0.133  0.1080\n",
              "2     0.47  0.00190  0.0240  0.102  0.131  0.0780\n",
              "3     0.64  0.00090  0.0170  0.077  0.090  0.0850\n",
              "4     0.23  0.00025  0.0260  0.139  0.090  0.1530\n",
              "...    ...      ...     ...    ...    ...     ...\n",
              "7195  0.59  0.00250  0.0208  0.079  0.099  0.0800\n",
              "7196  0.51  0.10600  0.0060  0.005  0.089  0.0055\n",
              "7197  0.51  0.00076  0.0201  0.090  0.067  0.1340\n",
              "7198  0.35  0.00280  0.0201  0.090  0.089  0.1010\n",
              "7199  0.73  0.00056  0.0201  0.081  0.090  0.0900\n",
              "\n",
              "[7200 rows x 6 columns]"
            ]
          },
          "metadata": {
            "tags": []
          },
          "execution_count": 45
        }
      ]
    },
    {
      "cell_type": "code",
      "metadata": {
        "id": "P7PWJbS2HKgo",
        "colab_type": "code",
        "colab": {}
      },
      "source": [
        "df1 = df.iloc[:,0:6]"
      ],
      "execution_count": 0,
      "outputs": []
    },
    {
      "cell_type": "code",
      "metadata": {
        "id": "r9eOW6OCSvpB",
        "colab_type": "code",
        "outputId": "28fc18c0-3064-4e6b-e79d-a57a4be6a9bc",
        "colab": {
          "base_uri": "https://localhost:8080/",
          "height": 204
        }
      },
      "source": [
        "df1.head()"
      ],
      "execution_count": 47,
      "outputs": [
        {
          "output_type": "execute_result",
          "data": {
            "text/html": [
              "<div>\n",
              "<style scoped>\n",
              "    .dataframe tbody tr th:only-of-type {\n",
              "        vertical-align: middle;\n",
              "    }\n",
              "\n",
              "    .dataframe tbody tr th {\n",
              "        vertical-align: top;\n",
              "    }\n",
              "\n",
              "    .dataframe thead th {\n",
              "        text-align: right;\n",
              "    }\n",
              "</style>\n",
              "<table border=\"1\" class=\"dataframe\">\n",
              "  <thead>\n",
              "    <tr style=\"text-align: right;\">\n",
              "      <th></th>\n",
              "      <th>A</th>\n",
              "      <th>B</th>\n",
              "      <th>C</th>\n",
              "      <th>D</th>\n",
              "      <th>E</th>\n",
              "      <th>F</th>\n",
              "    </tr>\n",
              "  </thead>\n",
              "  <tbody>\n",
              "    <tr>\n",
              "      <th>0</th>\n",
              "      <td>0.73</td>\n",
              "      <td>0.00060</td>\n",
              "      <td>0.015</td>\n",
              "      <td>0.120</td>\n",
              "      <td>0.082</td>\n",
              "      <td>0.146</td>\n",
              "    </tr>\n",
              "    <tr>\n",
              "      <th>1</th>\n",
              "      <td>0.24</td>\n",
              "      <td>0.00025</td>\n",
              "      <td>0.030</td>\n",
              "      <td>0.143</td>\n",
              "      <td>0.133</td>\n",
              "      <td>0.108</td>\n",
              "    </tr>\n",
              "    <tr>\n",
              "      <th>2</th>\n",
              "      <td>0.47</td>\n",
              "      <td>0.00190</td>\n",
              "      <td>0.024</td>\n",
              "      <td>0.102</td>\n",
              "      <td>0.131</td>\n",
              "      <td>0.078</td>\n",
              "    </tr>\n",
              "    <tr>\n",
              "      <th>3</th>\n",
              "      <td>0.64</td>\n",
              "      <td>0.00090</td>\n",
              "      <td>0.017</td>\n",
              "      <td>0.077</td>\n",
              "      <td>0.090</td>\n",
              "      <td>0.085</td>\n",
              "    </tr>\n",
              "    <tr>\n",
              "      <th>4</th>\n",
              "      <td>0.23</td>\n",
              "      <td>0.00025</td>\n",
              "      <td>0.026</td>\n",
              "      <td>0.139</td>\n",
              "      <td>0.090</td>\n",
              "      <td>0.153</td>\n",
              "    </tr>\n",
              "  </tbody>\n",
              "</table>\n",
              "</div>"
            ],
            "text/plain": [
              "      A        B      C      D      E      F\n",
              "0  0.73  0.00060  0.015  0.120  0.082  0.146\n",
              "1  0.24  0.00025  0.030  0.143  0.133  0.108\n",
              "2  0.47  0.00190  0.024  0.102  0.131  0.078\n",
              "3  0.64  0.00090  0.017  0.077  0.090  0.085\n",
              "4  0.23  0.00025  0.026  0.139  0.090  0.153"
            ]
          },
          "metadata": {
            "tags": []
          },
          "execution_count": 47
        }
      ]
    },
    {
      "cell_type": "code",
      "metadata": {
        "id": "apBcDb48S2MG",
        "colab_type": "code",
        "colab": {}
      },
      "source": [
        "df2 = df.iloc[:,6]"
      ],
      "execution_count": 0,
      "outputs": []
    },
    {
      "cell_type": "code",
      "metadata": {
        "id": "NEsH70PATFr_",
        "colab_type": "code",
        "outputId": "b31bec8e-dec0-442a-e8a2-c966fa9c109c",
        "colab": {
          "base_uri": "https://localhost:8080/",
          "height": 119
        }
      },
      "source": [
        "df2.head()"
      ],
      "execution_count": 49,
      "outputs": [
        {
          "output_type": "execute_result",
          "data": {
            "text/plain": [
              "0    0\n",
              "1    0\n",
              "2    0\n",
              "3    0\n",
              "4    0\n",
              "Name: Label, dtype: int64"
            ]
          },
          "metadata": {
            "tags": []
          },
          "execution_count": 49
        }
      ]
    },
    {
      "cell_type": "code",
      "metadata": {
        "id": "r2h9vHz_TKN6",
        "colab_type": "code",
        "colab": {}
      },
      "source": [
        "#train_input,test_input = train_test_split(df1,test_size = 0.5)\n",
        "#train_labels,test_labels = train_test_split(df2,test_size = 0.5)\n",
        "\n",
        "train, test = train_test_split(df, test_size=0.02)\n",
        "train_labels = train.iloc[:, 6]\n",
        "train_input = train.iloc[:, :6]\n",
        "test_labels = test.iloc[:, 6]\n",
        "test_input = test.iloc[:, :6]"
      ],
      "execution_count": 0,
      "outputs": []
    },
    {
      "cell_type": "code",
      "metadata": {
        "id": "Inch_Mi8kNMQ",
        "colab_type": "code",
        "outputId": "750560c7-ac3c-4f27-c8a2-fe5a381ad3ec",
        "colab": {
          "base_uri": "https://localhost:8080/",
          "height": 34
        }
      },
      "source": [
        "len(test_labels)"
      ],
      "execution_count": 51,
      "outputs": [
        {
          "output_type": "execute_result",
          "data": {
            "text/plain": [
              "144"
            ]
          },
          "metadata": {
            "tags": []
          },
          "execution_count": 51
        }
      ]
    },
    {
      "cell_type": "code",
      "metadata": {
        "id": "_sGWMqwZkwiq",
        "colab_type": "code",
        "colab": {}
      },
      "source": [
        "# normalisation column-wise"
      ],
      "execution_count": 0,
      "outputs": []
    },
    {
      "cell_type": "code",
      "metadata": {
        "id": "CsMYUU4FlW3g",
        "colab_type": "code",
        "colab": {}
      },
      "source": [
        "def normalize(x):\n",
        "  x_normed = x/x.max(0,keepdim=True)[0]\n",
        "  return x_normed"
      ],
      "execution_count": 0,
      "outputs": []
    },
    {
      "cell_type": "code",
      "metadata": {
        "id": "A4Qle6UanBW8",
        "colab_type": "code",
        "colab": {}
      },
      "source": [
        "train = torch.tensor(train_input.values.astype(np.float32))\n",
        "train_target = torch.tensor(train_labels.values.astype(np.float32))\n",
        "\n",
        "train = normalize(train)\n",
        "\n",
        "train_dataset = data_utils.TensorDataset(train,train_target)\n",
        "train_loader = data_utils.DataLoader(dataset= train_dataset , batch_size = 64, shuffle = True)"
      ],
      "execution_count": 0,
      "outputs": []
    },
    {
      "cell_type": "code",
      "metadata": {
        "id": "W9I82iiix-K8",
        "colab_type": "code",
        "colab": {}
      },
      "source": [
        "test = torch.tensor(test_input.values.astype(np.float32))\n",
        "test_target = torch.tensor(test_labels.values.astype(np.float32))\n",
        "\n",
        "test_dataset = data_utils.TensorDataset(test,test_target)\n",
        "test_loader = data_utils.DataLoader(dataset = test_dataset,batch_size =1, shuffle= False)\n",
        "\n"
      ],
      "execution_count": 0,
      "outputs": []
    },
    {
      "cell_type": "code",
      "metadata": {
        "id": "lMM12Zi7z4qB",
        "colab_type": "code",
        "colab": {}
      },
      "source": [
        "class Net(nn.Module):\n",
        "  def __init__(self):\n",
        "    super(Net,self).__init__()\n",
        "    self.fc1 = nn.Linear(6,24)\n",
        "    self.fc2 = nn.Linear(24,32)\n",
        "    self.fc3 = nn.Linear(32,1)\n",
        "    \n",
        "    self.relu = nn.ReLU()\n",
        "    self.dropout = nn.Dropout(p=0.1)\n",
        "    self.batchnorm1 = nn.BatchNorm1d(24)\n",
        "    self.batchnorm2 = nn.BatchNorm1d(32)\n",
        "\n",
        "    # define forward loop\n",
        "  def forward(self, inputs):\n",
        "    x = self.relu(self.fc1(inputs))\n",
        "    x = self.batchnorm1(x)\n",
        "    x = self.relu(self.fc2(x))\n",
        "    x = self.batchnorm2(x)\n",
        "    x = self.dropout(x)\n",
        "    x = self.fc3(x)\n",
        "\n",
        "    return x\n",
        "\n",
        "     "
      ],
      "execution_count": 0,
      "outputs": []
    },
    {
      "cell_type": "code",
      "metadata": {
        "id": "zZmxzTKg9i6P",
        "colab_type": "code",
        "outputId": "86096bb9-af03-48cb-f175-24b060af58e8",
        "colab": {
          "base_uri": "https://localhost:8080/",
          "height": 170
        }
      },
      "source": [
        "model = Net()\n",
        "print(model)\n",
        "Loss_function = nn.BCEWithLogitsLoss()\n",
        "Optimizer_with_Regularization_Function = optim.Adam(model.parameters(),lr=0.01)"
      ],
      "execution_count": 57,
      "outputs": [
        {
          "output_type": "stream",
          "text": [
            "Net(\n",
            "  (fc1): Linear(in_features=6, out_features=24, bias=True)\n",
            "  (fc2): Linear(in_features=24, out_features=32, bias=True)\n",
            "  (fc3): Linear(in_features=32, out_features=1, bias=True)\n",
            "  (relu): ReLU()\n",
            "  (dropout): Dropout(p=0.1, inplace=False)\n",
            "  (batchnorm1): BatchNorm1d(24, eps=1e-05, momentum=0.1, affine=True, track_running_stats=True)\n",
            "  (batchnorm2): BatchNorm1d(32, eps=1e-05, momentum=0.1, affine=True, track_running_stats=True)\n",
            ")\n"
          ],
          "name": "stdout"
        }
      ]
    },
    {
      "cell_type": "code",
      "metadata": {
        "id": "_0QwuV0-cNDT",
        "colab_type": "code",
        "colab": {}
      },
      "source": [
        "def binary_acc(y_pred,y_batch):\n",
        "  y_pred_rounded = torch.round(torch.sigmoid(y_pred))\n",
        "\n",
        "\n",
        "  correct_result_sum = (y_pred_rounded == y_batch).sum().float()\n",
        "  acc = correct_result_sum / y_batch.shape[0]\n",
        "  acc = torch.round(100* acc)\n",
        "   \n",
        "  return acc\n"
      ],
      "execution_count": 0,
      "outputs": []
    },
    {
      "cell_type": "code",
      "metadata": {
        "id": "wBDbRqLy-Tq5",
        "colab_type": "code",
        "outputId": "fb3e7e9a-4a0e-4334-d178-24f22291038e",
        "colab": {
          "base_uri": "https://localhost:8080/",
          "height": 357
        }
      },
      "source": [
        "model.train()\n",
        "epochs = 20\n",
        "for i in range(1,epochs+1):\n",
        "  epochs_loss = 0\n",
        "  epochs_acc = 0\n",
        "  for x_batch,y_batch in train_loader:\n",
        "    Optimizer_with_Regularization_Function.zero_grad()\n",
        "\n",
        "    y_pred = model(x_batch)\n",
        "\n",
        "    #print(y_pred.size())\n",
        "    #print(y_batch.size())\n",
        "    \n",
        "    loss = Loss_function(y_pred,y_batch.unsqueeze(1))\n",
        "    acc = binary_acc(y_pred,y_batch.unsqueeze(1))\n",
        "\n",
        "    #backpropagation\n",
        "    loss.backward()\n",
        "    Optimizer_with_Regularization_Function.step() # 1 time updation\n",
        "    \n",
        "    epochs_loss += loss.item()\n",
        "    epochs_acc += acc.item()\n",
        "\n",
        "\n",
        "  print(f'Epoch {i}: | Loss: {epochs_loss/len(train_loader): .5f} | Acc: {epochs_acc/len(train_loader): .3f}')"
      ],
      "execution_count": 59,
      "outputs": [
        {
          "output_type": "stream",
          "text": [
            "Epoch 1: | Loss:  0.21936 | Acc:  93.108\n",
            "Epoch 2: | Loss:  0.09763 | Acc:  96.189\n",
            "Epoch 3: | Loss:  0.09658 | Acc:  96.009\n",
            "Epoch 4: | Loss:  0.09477 | Acc:  96.036\n",
            "Epoch 5: | Loss:  0.08855 | Acc:  96.234\n",
            "Epoch 6: | Loss:  0.08510 | Acc:  96.360\n",
            "Epoch 7: | Loss:  0.08447 | Acc:  96.135\n",
            "Epoch 8: | Loss:  0.09953 | Acc:  96.207\n",
            "Epoch 9: | Loss:  0.09093 | Acc:  96.288\n",
            "Epoch 10: | Loss:  0.08390 | Acc:  96.081\n",
            "Epoch 11: | Loss:  0.08213 | Acc:  96.405\n",
            "Epoch 12: | Loss:  0.07756 | Acc:  96.550\n",
            "Epoch 13: | Loss:  0.07567 | Acc:  96.486\n",
            "Epoch 14: | Loss:  0.07602 | Acc:  96.523\n",
            "Epoch 15: | Loss:  0.07289 | Acc:  96.757\n",
            "Epoch 16: | Loss:  0.07437 | Acc:  96.739\n",
            "Epoch 17: | Loss:  0.07270 | Acc:  96.568\n",
            "Epoch 18: | Loss:  0.07475 | Acc:  96.414\n",
            "Epoch 19: | Loss:  0.07204 | Acc:  96.550\n",
            "Epoch 20: | Loss:  0.07128 | Acc:  96.667\n"
          ],
          "name": "stdout"
        }
      ]
    },
    {
      "cell_type": "code",
      "metadata": {
        "id": "payWIb2GWKnl",
        "colab_type": "code",
        "colab": {}
      },
      "source": [
        "model.eval()\n",
        "\n",
        "y_pred_list = []\n",
        "y_correct_list = []\n",
        "\n",
        "with torch.no_grad():\n",
        "  for x_batch,y_batch in test_loader:\n",
        "    y_pred = model(x_batch)\n",
        "    y_pred = torch.sigmoid(y_pred)\n",
        "    y_pred_list.append(y_pred.cpu().numpy())\n",
        "    y_correct_list.append(y_batch.numpy())   #numpy arrays will be formed,will convert arrays into list\n",
        "\n",
        "\n",
        "y_pred_list = [a.squeeze().tolist() for a in y_pred_list]\n",
        "y_correct_list = [a.squeeze().tolist() for a in y_correct_list]\n"
      ],
      "execution_count": 0,
      "outputs": []
    },
    {
      "cell_type": "code",
      "metadata": {
        "id": "6Fd3BkLjvbwq",
        "colab_type": "code",
        "colab": {}
      },
      "source": [
        "y_pred_ana = []\n",
        "y_pred_non = []\n",
        "\n",
        "len_of_list = len(y_pred_list)\n",
        "\n",
        "for i in range(0,len_of_list):\n",
        "  if y_correct_list[i] == 0:\n",
        "    y_pred_non.append(y_pred_list[i])\n",
        "  else:\n",
        "    y_pred_ana.append(y_pred_list[i])\n",
        "\n",
        "y_pred_non = [i*100 for i in y_pred_non]\n",
        "y_pred_ana = [i*100 for i in y_pred_ana]\n"
      ],
      "execution_count": 0,
      "outputs": []
    },
    {
      "cell_type": "code",
      "metadata": {
        "id": "ljPhT-sp5_je",
        "colab_type": "code",
        "outputId": "16fa5b4f-44e8-4cc0-966c-a58c7b542827",
        "colab": {
          "base_uri": "https://localhost:8080/",
          "height": 299
        }
      },
      "source": [
        "data = y_pred_non\n",
        "bins = np.linspace(0, 100, 25, endpoint=True)\n",
        "plt.hist(data,bins,color='green',alpha=0.5,label='usual')\n",
        "\n",
        "data1 = y_pred_ana\n",
        "plt.hist(data1,bins,color='red',alpha=0.6,label='unusual')\n",
        "\n",
        "plt.legend(bbox_to_anchor=(1.05,1),loc='upper left')\n",
        "plt.xlabel('Anamoaly Score')\n",
        "plt.ylabel('Occurences')"
      ],
      "execution_count": 62,
      "outputs": [
        {
          "output_type": "execute_result",
          "data": {
            "text/plain": [
              "Text(0, 0.5, 'Occurences')"
            ]
          },
          "metadata": {
            "tags": []
          },
          "execution_count": 62
        },
        {
          "output_type": "display_data",
          "data": {
            "image/png": "[encoded data removed]",
            "text/plain": [
              "<Figure size 432x288 with 1 Axes>"
            ]
          },
          "metadata": {
            "tags": [],
            "needs_background": "light"
          }
        }
      ]
    },
    {
      "cell_type": "code",
      "metadata": {
        "id": "6mcn691V8_dz",
        "colab_type": "code",
        "outputId": "8019c00e-3e6e-4092-9852-479c4b914105",
        "colab": {
          "base_uri": "https://localhost:8080/",
          "height": 170
        }
      },
      "source": [
        "from sklearn.metrics import classification_report\n",
        "\n",
        "test_labels = np.array(test_labels)\n",
        "y_pred_list = np.array(y_pred_list)\n",
        "\n",
        "print(classification_report(test_labels,y_pred_list.round(),target_names = [\"Normal\",\"Abnormal\"]))"
      ],
      "execution_count": 63,
      "outputs": [
        {
          "output_type": "stream",
          "text": [
            "              precision    recall  f1-score   support\n",
            "\n",
            "      Normal       0.99      1.00      0.99       135\n",
            "    Abnormal       1.00      0.78      0.88         9\n",
            "\n",
            "    accuracy                           0.99       144\n",
            "   macro avg       0.99      0.89      0.93       144\n",
            "weighted avg       0.99      0.99      0.99       144\n",
            "\n"
          ],
          "name": "stdout"
        }
      ]
    },
    {
      "cell_type": "code",
      "metadata": {
        "id": "w-hN6pXtVsTg",
        "colab_type": "code",
        "colab": {}
      },
      "source": [
        ""
      ],
      "execution_count": 0,
      "outputs": []
    },
    {
      "cell_type": "code",
      "metadata": {
        "id": "2WqnN4WaWu_v",
        "colab_type": "code",
        "colab": {}
      },
      "source": [
        ""
      ],
      "execution_count": 0,
      "outputs": []
    },
    {
      "cell_type": "code",
      "metadata": {
        "id": "o70LTW8CXsYK",
        "colab_type": "code",
        "colab": {}
      },
      "source": [
        ""
      ],
      "execution_count": 0,
      "outputs": []
    }
  ]
}